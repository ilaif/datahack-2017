{
 "cells": [
  {
   "cell_type": "code",
   "execution_count": 1,
   "metadata": {
    "collapsed": false
   },
   "outputs": [],
   "source": [
    "import pandas as pd\n",
    "import numpy as np\n",
    "\n",
    "%load_ext autoreload\n",
    "%autoreload 2"
   ]
  },
  {
   "cell_type": "code",
   "execution_count": 2,
   "metadata": {
    "collapsed": false
   },
   "outputs": [
    {
     "name": "stdout",
     "output_type": "stream",
     "text": [
      "[Error 2] The system cannot find the file specified: u'datahack-2017/'\n",
      "C:\\Users\\Gal\\PycharmProjects\\datahack-2017\n",
      "The autoreload extension is already loaded. To reload it, use:\n",
      "  %reload_ext autoreload\n"
     ]
    }
   ],
   "source": [
    "%cd datahack-2017/\n",
    "from src.models import Question, Answer, AnswerRelation\n",
    "from src.main_util import load_questions\n",
    "\n",
    "%load_ext autoreload\n",
    "%autoreload 2"
   ]
  },
  {
   "cell_type": "code",
   "execution_count": 12,
   "metadata": {
    "collapsed": false
   },
   "outputs": [
    {
     "name": "stdout",
     "output_type": "stream",
     "text": [
      "C:\\Users\\Gal\\PycharmProjects\\datahack-2017\\src\n"
     ]
    }
   ],
   "source": [
    "files = ['Economics.txt', 'History_US.txt', 'Psychology.txt', 'Government.txt', 'History_World.txt']"
   ]
  },
  {
   "cell_type": "code",
   "execution_count": 9,
   "metadata": {
    "collapsed": false
   },
   "outputs": [
    {
     "name": "stderr",
     "output_type": "stream",
     "text": [
      "100%|██████████| 5852/5852 [06:57<00:00, 14.01it/s]\n"
     ]
    }
   ],
   "source": [
    "folder = 'MCQ/'\n",
    "questions = load_questions(folder)\n",
    "extract_features(questions)"
   ]
  },
  {
   "cell_type": "code",
   "execution_count": 47,
   "metadata": {
    "collapsed": true
   },
   "outputs": [],
   "source": [
    "train, tests = split_train_test(questions=questions)"
   ]
  },
  {
   "cell_type": "code",
   "execution_count": 19,
   "metadata": {
    "collapsed": false
   },
   "outputs": [
    {
     "data": {
      "text/plain": [
       "('intrapersonal skills.', 'language.', 'creativity.', 'interpersonal skills.')"
      ]
     },
     "execution_count": 19,
     "metadata": {},
     "output_type": "execute_result"
    }
   ],
   "source": [
    "tests[1][2].answers[0].text, tests[1][2].answers[1].text, tests[1][2].answers[2].text, tests[1][2].answers[3].text"
   ]
  },
  {
   "cell_type": "code",
   "execution_count": 20,
   "metadata": {
    "collapsed": false
   },
   "outputs": [
    {
     "data": {
      "text/plain": [
       "('language.', 'creativity.', 'interpersonal skills.', 'intrapersonal skills.')"
      ]
     },
     "execution_count": 20,
     "metadata": {},
     "output_type": "execute_result"
    }
   ],
   "source": [
    "tests[1][1].answers[0].text, tests[1][1].answers[1].text, tests[1][1].answers[2].text, tests[1][1].answers[3].text"
   ]
  },
  {
   "cell_type": "code",
   "execution_count": 38,
   "metadata": {
    "collapsed": false
   },
   "outputs": [],
   "source": [
    "from src.main_util import *\n",
    "train, tests = split_train_test(questions=questions, random_state=4000000)\n",
    "pd_train = build_df(train)"
   ]
  },
  {
   "cell_type": "code",
   "execution_count": 20,
   "metadata": {
    "collapsed": false
   },
   "outputs": [
    {
     "name": "stderr",
     "output_type": "stream",
     "text": [
      "[Parallel(n_jobs=1)]: Done   1 out of   1 | elapsed:    0.4s finished\n"
     ]
    },
    {
     "data": {
      "text/plain": [
       "IsolationForest(bootstrap=False, contamination=0, max_features=1.0,\n",
       "        max_samples=1000, n_estimators=100, n_jobs=1, random_state=0,\n",
       "        verbose=1)"
      ]
     },
     "execution_count": 20,
     "metadata": {},
     "output_type": "execute_result"
    }
   ],
   "source": [
    "from sklearn.ensemble import IsolationForest\n",
    "clf = IsolationForest(max_samples=1000, random_state=0, contamination=0, verbose=1)\n",
    "pd_train = pd_train[[x for x in pd_train.columns if x not in ['a_'+str(i)+'_text' for i in range(4)] + ['q_text', 'q_category']]]\n",
    "clf.fit(pd_train)"
   ]
  },
  {
   "cell_type": "code",
   "execution_count": 21,
   "metadata": {
    "collapsed": false,
    "scrolled": true
   },
   "outputs": [
    {
     "name": "stderr",
     "output_type": "stream",
     "text": [
      "100%|██████████| 1463/1463 [03:13<00:00,  7.31it/s]\n"
     ]
    }
   ],
   "source": [
    "import numpy as np\n",
    "from tqdm import tqdm\n",
    "res = []\n",
    "for k in tqdm(range(len(tests))):\n",
    "    ret = []\n",
    "    for j in range(4):\n",
    "        pd_test = build_df([tests[k][j]])\n",
    "        pd_test\n",
    "        ret.append(clf.decision_function(pd_test[[x for x in pd_train.columns if x not in ['a_'+str(i)+'_text' for i in range(4)] + ['q_text', 'q_category']]]))\n",
    "    res.append(np.argmax(ret))"
   ]
  },
  {
   "cell_type": "code",
   "execution_count": 22,
   "metadata": {
    "collapsed": false
   },
   "outputs": [
    {
     "data": {
      "text/plain": [
       "Counter({0: 399, 1: 370, 2: 369, 3: 325})"
      ]
     },
     "execution_count": 22,
     "metadata": {},
     "output_type": "execute_result"
    }
   ],
   "source": [
    "import collections\n",
    "collections.Counter(res)"
   ]
  },
  {
   "cell_type": "code",
   "execution_count": 29,
   "metadata": {
    "collapsed": false
   },
   "outputs": [
    {
     "data": {
      "text/html": [
       "<div>\n",
       "<style>\n",
       "    .dataframe thead tr:only-child th {\n",
       "        text-align: right;\n",
       "    }\n",
       "\n",
       "    .dataframe thead th {\n",
       "        text-align: left;\n",
       "    }\n",
       "\n",
       "    .dataframe tbody tr th {\n",
       "        vertical-align: top;\n",
       "    }\n",
       "</style>\n",
       "<table border=\"1\" class=\"dataframe\">\n",
       "  <thead>\n",
       "    <tr style=\"text-align: right;\">\n",
       "      <th></th>\n",
       "      <th>a_0_all_or_none</th>\n",
       "      <th>a_0_average_frequency</th>\n",
       "      <th>a_0_certainty_count</th>\n",
       "      <th>a_0_char_count</th>\n",
       "      <th>a_0_common_synonyms_with_question_count</th>\n",
       "      <th>a_0_common_words_with_question_count</th>\n",
       "      <th>a_0_is_correct</th>\n",
       "      <th>a_0_similarity_with_question</th>\n",
       "      <th>a_0_stopword_count</th>\n",
       "      <th>a_0_text</th>\n",
       "      <th>...</th>\n",
       "      <th>q_char_count</th>\n",
       "      <th>q_correct_answer_idx</th>\n",
       "      <th>q_is_completion</th>\n",
       "      <th>q_is_question</th>\n",
       "      <th>q_num_answers</th>\n",
       "      <th>q_stopword_count</th>\n",
       "      <th>q_text</th>\n",
       "      <th>q_title_count</th>\n",
       "      <th>q_without_stopword_count</th>\n",
       "      <th>q_word_count</th>\n",
       "    </tr>\n",
       "  </thead>\n",
       "  <tbody>\n",
       "    <tr>\n",
       "      <th>0</th>\n",
       "      <td>False</td>\n",
       "      <td>14.46133</td>\n",
       "      <td>0</td>\n",
       "      <td>22</td>\n",
       "      <td>1</td>\n",
       "      <td>1</td>\n",
       "      <td>False</td>\n",
       "      <td>1.0</td>\n",
       "      <td>0</td>\n",
       "      <td>partial ego principle.</td>\n",
       "      <td>...</td>\n",
       "      <td>46</td>\n",
       "      <td>2</td>\n",
       "      <td>False</td>\n",
       "      <td>False</td>\n",
       "      <td>4</td>\n",
       "      <td>5</td>\n",
       "      <td>According to Freud, the ego is governed by the</td>\n",
       "      <td>2</td>\n",
       "      <td>5</td>\n",
       "      <td>9</td>\n",
       "    </tr>\n",
       "  </tbody>\n",
       "</table>\n",
       "<p>1 rows × 76 columns</p>\n",
       "</div>"
      ],
      "text/plain": [
       "   a_0_all_or_none  a_0_average_frequency  a_0_certainty_count  \\\n",
       "0            False               14.46133                    0   \n",
       "\n",
       "   a_0_char_count  a_0_common_synonyms_with_question_count  \\\n",
       "0              22                                        1   \n",
       "\n",
       "   a_0_common_words_with_question_count  a_0_is_correct  \\\n",
       "0                                     1           False   \n",
       "\n",
       "   a_0_similarity_with_question  a_0_stopword_count                a_0_text  \\\n",
       "0                           1.0                   0  partial ego principle.   \n",
       "\n",
       "       ...       q_char_count  q_correct_answer_idx  q_is_completion  \\\n",
       "0      ...                 46                     2            False   \n",
       "\n",
       "   q_is_question  q_num_answers  q_stopword_count  \\\n",
       "0          False              4                 5   \n",
       "\n",
       "                                           q_text  q_title_count  \\\n",
       "0  According to Freud, the ego is governed by the              2   \n",
       "\n",
       "   q_without_stopword_count  q_word_count  \n",
       "0                         5             9  \n",
       "\n",
       "[1 rows x 76 columns]"
      ]
     },
     "execution_count": 29,
     "metadata": {},
     "output_type": "execute_result"
    }
   ],
   "source": [
    "build_df([tests[0][2]]) "
   ]
  },
  {
   "cell_type": "code",
   "execution_count": 28,
   "metadata": {
    "collapsed": false
   },
   "outputs": [
    {
     "data": {
      "text/html": [
       "<div>\n",
       "<style>\n",
       "    .dataframe thead tr:only-child th {\n",
       "        text-align: right;\n",
       "    }\n",
       "\n",
       "    .dataframe thead th {\n",
       "        text-align: left;\n",
       "    }\n",
       "\n",
       "    .dataframe tbody tr th {\n",
       "        vertical-align: top;\n",
       "    }\n",
       "</style>\n",
       "<table border=\"1\" class=\"dataframe\">\n",
       "  <thead>\n",
       "    <tr style=\"text-align: right;\">\n",
       "      <th></th>\n",
       "      <th>a_0_all_or_none</th>\n",
       "      <th>a_0_average_frequency</th>\n",
       "      <th>a_0_certainty_count</th>\n",
       "      <th>a_0_char_count</th>\n",
       "      <th>a_0_common_synonyms_with_question_count</th>\n",
       "      <th>a_0_common_words_with_question_count</th>\n",
       "      <th>a_0_is_correct</th>\n",
       "      <th>a_0_similarity_with_question</th>\n",
       "      <th>a_0_stopword_count</th>\n",
       "      <th>a_0_text</th>\n",
       "      <th>...</th>\n",
       "      <th>q_char_count</th>\n",
       "      <th>q_correct_answer_idx</th>\n",
       "      <th>q_is_completion</th>\n",
       "      <th>q_is_question</th>\n",
       "      <th>q_num_answers</th>\n",
       "      <th>q_stopword_count</th>\n",
       "      <th>q_text</th>\n",
       "      <th>q_title_count</th>\n",
       "      <th>q_without_stopword_count</th>\n",
       "      <th>q_word_count</th>\n",
       "    </tr>\n",
       "  </thead>\n",
       "  <tbody>\n",
       "    <tr>\n",
       "      <th>0</th>\n",
       "      <td>False</td>\n",
       "      <td>12.044147</td>\n",
       "      <td>0</td>\n",
       "      <td>9</td>\n",
       "      <td>0</td>\n",
       "      <td>0</td>\n",
       "      <td>False</td>\n",
       "      <td>0.1</td>\n",
       "      <td>0</td>\n",
       "      <td>language.</td>\n",
       "      <td>...</td>\n",
       "      <td>78</td>\n",
       "      <td>1</td>\n",
       "      <td>False</td>\n",
       "      <td>False</td>\n",
       "      <td>4</td>\n",
       "      <td>5</td>\n",
       "      <td>Howard Gardner has theorized all of the follow...</td>\n",
       "      <td>2</td>\n",
       "      <td>7</td>\n",
       "      <td>12</td>\n",
       "    </tr>\n",
       "  </tbody>\n",
       "</table>\n",
       "<p>1 rows × 76 columns</p>\n",
       "</div>"
      ],
      "text/plain": [
       "   a_0_all_or_none  a_0_average_frequency  a_0_certainty_count  \\\n",
       "0            False              12.044147                    0   \n",
       "\n",
       "   a_0_char_count  a_0_common_synonyms_with_question_count  \\\n",
       "0               9                                        0   \n",
       "\n",
       "   a_0_common_words_with_question_count  a_0_is_correct  \\\n",
       "0                                     0           False   \n",
       "\n",
       "   a_0_similarity_with_question  a_0_stopword_count   a_0_text      ...       \\\n",
       "0                           0.1                   0  language.      ...        \n",
       "\n",
       "   q_char_count  q_correct_answer_idx  q_is_completion  q_is_question  \\\n",
       "0            78                     1            False          False   \n",
       "\n",
       "   q_num_answers  q_stopword_count  \\\n",
       "0              4                 5   \n",
       "\n",
       "                                              q_text  q_title_count  \\\n",
       "0  Howard Gardner has theorized all of the follow...              2   \n",
       "\n",
       "   q_without_stopword_count  q_word_count  \n",
       "0                         7            12  \n",
       "\n",
       "[1 rows x 76 columns]"
      ]
     },
     "execution_count": 28,
     "metadata": {},
     "output_type": "execute_result"
    }
   ],
   "source": [
    "build_df([tests[1][2]]) "
   ]
  },
  {
   "cell_type": "code",
   "execution_count": 23,
   "metadata": {
    "collapsed": false
   },
   "outputs": [],
   "source": [
    "import pandas as pd\n",
    "a = pd_train.corr()"
   ]
  },
  {
   "cell_type": "code",
   "execution_count": 26,
   "metadata": {
    "collapsed": false
   },
   "outputs": [
    {
     "ename": "AttributeError",
     "evalue": "'str' object has no attribute 'keys'",
     "output_type": "error",
     "traceback": [
      "\u001b[0;31m\u001b[0m",
      "\u001b[0;31mAttributeError\u001b[0mTraceback (most recent call last)",
      "\u001b[0;32m<ipython-input-26-f833847975f8>\u001b[0m in \u001b[0;36m<module>\u001b[0;34m()\u001b[0m\n\u001b[0;32m----> 1\u001b[0;31m \u001b[0ma\u001b[0m\u001b[1;33m.\u001b[0m\u001b[0mkeys\u001b[0m\u001b[1;33m(\u001b[0m\u001b[1;33m)\u001b[0m\u001b[1;33m[\u001b[0m\u001b[1;36m0\u001b[0m\u001b[1;33m]\u001b[0m\u001b[1;33m.\u001b[0m\u001b[0mkeys\u001b[0m\u001b[1;33m(\u001b[0m\u001b[1;33m)\u001b[0m\u001b[1;33m\u001b[0m\u001b[0m\n\u001b[0m",
      "\u001b[0;31mAttributeError\u001b[0m: 'str' object has no attribute 'keys'"
     ]
    }
   ],
   "source": [
    "a[a.keys()[0]]"
   ]
  },
  {
   "cell_type": "code",
   "execution_count": 30,
   "metadata": {
    "collapsed": false
   },
   "outputs": [
    {
     "name": "stdout",
     "output_type": "stream",
     "text": [
      "['a_0_all_or_none', 'a_0_average_frequency', 'a_0_certainty_count', 'a_0_char_count', 'a_0_common_synonyms_with_question_count', 'a_0_common_words_with_question_count', 'a_0_is_correct', 'a_0_similarity_with_question', 'a_0_stopword_count', 'a_0_title_count', 'a_0_without_stopword_count', 'a_0_word_count', 'a_1_all_or_none', 'a_1_average_frequency', 'a_1_certainty_count', 'a_1_char_count', 'a_1_common_synonyms_with_question_count', 'a_1_common_words_with_question_count', 'a_1_is_correct', 'a_1_similarity_with_question', 'a_1_stopword_count', 'a_1_title_count', 'a_1_without_stopword_count', 'a_1_word_count', 'a_2_all_or_none', 'a_2_average_frequency', 'a_2_certainty_count', 'a_2_char_count', 'a_2_common_synonyms_with_question_count', 'a_2_common_words_with_question_count', 'a_2_is_correct', 'a_2_similarity_with_question', 'a_2_stopword_count', 'a_2_title_count', 'a_2_without_stopword_count', 'a_2_word_count', 'a_3_all_or_none', 'a_3_average_frequency', 'a_3_certainty_count', 'a_3_char_count', 'a_3_common_synonyms_with_question_count', 'a_3_common_words_with_question_count', 'a_3_is_correct', 'a_3_similarity_with_question', 'a_3_stopword_count', 'a_3_title_count', 'a_3_without_stopword_count', 'a_3_word_count', 'ar_0_1_similarity', 'ar_0_1_synonyms_count', 'ar_0_2_similarity', 'ar_0_2_synonyms_count', 'ar_0_3_similarity', 'ar_0_3_synonyms_count', 'ar_1_2_similarity', 'ar_1_2_synonyms_count', 'ar_1_3_similarity', 'ar_1_3_synonyms_count', 'ar_2_3_similarity', 'ar_2_3_synonyms_count', 'q_average_frequency', 'q_char_count', 'q_correct_answer_idx', 'q_is_completion', 'q_is_question', 'q_num_answers', 'q_stopword_count', 'q_title_count', 'q_without_stopword_count', 'q_word_count']\n",
      "['a_0_all_or_none', 'a_0_average_frequency', 'a_0_certainty_count', 'a_0_similarity_with_question', 'a_0_word_count', 'a_1_all_or_none', 'a_1_average_frequency', 'a_1_certainty_count', 'a_1_similarity_with_question', 'a_1_word_count', 'a_2_all_or_none', 'a_2_average_frequency', 'a_2_certainty_count', 'a_2_similarity_with_question', 'a_2_word_count', 'a_3_all_or_none', 'a_3_average_frequency', 'a_3_certainty_count', 'a_3_similarity_with_question', 'a_3_word_count', 'ar_0_1_similarity', 'ar_0_2_similarity', 'ar_0_3_similarity', 'ar_1_2_similarity', 'ar_1_3_similarity', 'ar_2_3_similarity', 'q_average_frequency', 'q_is_completion', 'q_word_count']\n"
     ]
    }
   ],
   "source": [
    "curr_features = list(pd_train.columns)\n",
    "black_list = ['char_count', 'common_synonyms_with_question_count','common_words_with_question_count', 'is_correct', \\\n",
    "             'stopword_count', 'title_count', 'without_stopword_count', 'synonyms_count','correct_answer_idx', \\\n",
    "             'q_is_question', 'q_num_answers', 'text', 'category']\n",
    "surviving_features = [x for x in curr_features if all(black not in x for black in black_list)]\n",
    "print curr_features\n",
    "print surviving_features\n"
   ]
  },
  {
   "cell_type": "code",
   "execution_count": 54,
   "metadata": {
    "collapsed": true
   },
   "outputs": [],
   "source": [
    "from src.main_util import *\n",
    "train, tests = split_train_test(questions=questions, random_state=6000000)\n",
    "pd_train = build_df(train)"
   ]
  },
  {
   "cell_type": "code",
   "execution_count": 57,
   "metadata": {
    "collapsed": false
   },
   "outputs": [
    {
     "name": "stderr",
     "output_type": "stream",
     "text": [
      "[Parallel(n_jobs=1)]: Done   1 out of   1 | elapsed:    0.2s finished\n"
     ]
    },
    {
     "data": {
      "text/plain": [
       "IsolationForest(bootstrap=False, contamination=0, max_features=1.0,\n",
       "        max_samples=100, n_estimators=100, n_jobs=1, random_state=0,\n",
       "        verbose=1)"
      ]
     },
     "execution_count": 57,
     "metadata": {},
     "output_type": "execute_result"
    }
   ],
   "source": [
    "from sklearn.ensemble import IsolationForest\n",
    "clf = IsolationForest(max_samples=100, random_state=0, contamination=0, verbose=1)\n",
    "pd_train = pd_train[[x for x in pd_train.columns if x in surviving_features]]\n",
    "clf.fit(pd_train)"
   ]
  },
  {
   "cell_type": "code",
   "execution_count": 59,
   "metadata": {
    "collapsed": false
   },
   "outputs": [
    {
     "name": "stderr",
     "output_type": "stream",
     "text": [
      "100%|██████████| 1463/1463 [03:11<00:00,  7.34it/s]\n"
     ]
    }
   ],
   "source": [
    "import numpy as np\n",
    "from tqdm import tqdm\n",
    "res = []\n",
    "for k in tqdm(range(len(tests))):\n",
    "    ret = []\n",
    "    for j in range(4):\n",
    "        pd_test = build_df([tests[k][j]])\n",
    "        pd_test\n",
    "        ret.append(clf.decision_function(pd_test[surviving_features]))\n",
    "    res.append(np.argmax(ret))\n",
    "    "
   ]
  },
  {
   "cell_type": "code",
   "execution_count": 53,
   "metadata": {
    "collapsed": false
   },
   "outputs": [
    {
     "name": "stdout",
     "output_type": "stream",
     "text": [
      "Counter({0: 415, 1: 373, 3: 340, 2: 335})\n",
      "0.283663704716\n"
     ]
    }
   ],
   "source": [
    "import collections\n",
    "print collections.Counter(res)\n",
    "print collections.Counter(res)[0] / 1463."
   ]
  },
  {
   "cell_type": "code",
   "execution_count": 44,
   "metadata": {
    "collapsed": false
   },
   "outputs": [
    {
     "data": {
      "text/plain": [
       "1"
      ]
     },
     "execution_count": 44,
     "metadata": {},
     "output_type": "execute_result"
    }
   ],
   "source": []
  },
  {
   "cell_type": "code",
   "execution_count": 62,
   "metadata": {
    "collapsed": false
   },
   "outputs": [
    {
     "name": "stdout",
     "output_type": "stream",
     "text": [
      "Counter({False: 4343, True: 46})\n",
      "Counter({False: 4388, True: 1})\n",
      "Counter({False: 4382, True: 7})\n",
      "Counter({False: 4239, True: 150})\n"
     ]
    }
   ],
   "source": [
    "print collections.Counter(pd_train.a_0_all_or_none)\n",
    "print collections.Counter(pd_train.a_1_all_or_none)\n",
    "print collections.Counter(pd_train.a_2_all_or_none)\n",
    "print collections.Counter(pd_train.a_3_all_or_none)"
   ]
  },
  {
   "cell_type": "code",
   "execution_count": null,
   "metadata": {
    "collapsed": true
   },
   "outputs": [],
   "source": []
  }
 ],
 "metadata": {
  "anaconda-cloud": {},
  "kernelspec": {
   "display_name": "Python [conda root]",
   "language": "python",
   "name": "conda-root-py"
  },
  "language_info": {
   "codemirror_mode": {
    "name": "ipython",
    "version": 2
   },
   "file_extension": ".py",
   "mimetype": "text/x-python",
   "name": "python",
   "nbconvert_exporter": "python",
   "pygments_lexer": "ipython2",
   "version": "2.7.12"
  }
 },
 "nbformat": 4,
 "nbformat_minor": 1
}
