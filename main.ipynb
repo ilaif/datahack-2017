{
 "cells": [
  {
   "cell_type": "code",
   "execution_count": 124,
   "metadata": {
    "collapsed": true
   },
   "outputs": [],
   "source": [
    "import pandas as pd"
   ]
  },
  {
   "cell_type": "code",
   "execution_count": 125,
   "metadata": {
    "collapsed": true
   },
   "outputs": [],
   "source": [
    "folder = 'MCQ/'"
   ]
  },
  {
   "cell_type": "code",
   "execution_count": 126,
   "metadata": {},
   "outputs": [
    {
     "name": "stdout",
     "output_type": "stream",
     "text": [
      "Economics.txt          History_US.txt         Psychology.txt\r\n",
      "Government.txt         History_World.txt\r\n",
      "History_Euro.txt       Marketing_testbank.txt\r\n"
     ]
    }
   ],
   "source": [
    "!ls MCQ"
   ]
  },
  {
   "cell_type": "code",
   "execution_count": 127,
   "metadata": {
    "collapsed": true
   },
   "outputs": [],
   "source": [
    "files = ['Economics.txt', 'History_US.txt', 'Psychology.txt', 'Government.txt', 'History_World.txt', 'History_Euro.txt', 'Marketing_testbank.txt']"
   ]
  },
  {
   "cell_type": "code",
   "execution_count": 172,
   "metadata": {
    "collapsed": true
   },
   "outputs": [],
   "source": [
    "class AnswerEdge(object):\n",
    "    \n",
    "    def __init__(self):\n",
    "        pass"
   ]
  },
  {
   "cell_type": "code",
   "execution_count": 173,
   "metadata": {
    "collapsed": true
   },
   "outputs": [],
   "source": [
    "class Answer(object):\n",
    "    \n",
    "    def __init__(self):\n",
    "        pass"
   ]
  },
  {
   "cell_type": "code",
   "execution_count": 150,
   "metadata": {
    "collapsed": true
   },
   "outputs": [],
   "source": [
    "class Question(object):\n",
    "    \n",
    "    def __init__(self):\n",
    "        self.question = None\n",
    "        self.answers = []\n",
    "        self.correct_answer_idx = None\n",
    "        self.category = None\n",
    "        \n",
    "    def set_question(self, question):\n",
    "        self.question = question\n",
    "    \n",
    "    def add_answer(self, answer, is_correct):\n",
    "        self.answers.append(answer)\n",
    "        if is_correct:\n",
    "            self.correct_answer_idx = len(self.answers) - 1\n",
    "            \n",
    "    def set_category(self, category):\n",
    "        self.category = category\n",
    "        \n",
    "    def set_question_char_count():\n",
    "        return len(self.question)\n",
    "    \n",
    "    def set_question_word_count():\n",
    "        return self.question.count(' ') + 1\n",
    "    \n",
    "    \n",
    "    def get_features():\n",
    "        return {\n",
    "            'question_char_count': self.get_question_char_count()\n",
    "            'question_word_count': self.get_question_word_count()\n",
    "            \n",
    "        }\n",
    "            \n",
    "    def __repr__(self):\n",
    "        answers_repr = ''\n",
    "        for i, a in enumerate(self.answers):\n",
    "            if self.correct_answer_idx == i:\n",
    "                answers_repr += '*('\n",
    "            if len(a) > 10:\n",
    "                a = a[:10] + '..'\n",
    "            else:\n",
    "                a = a[:10]\n",
    "            answers_repr += a\n",
    "            if self.correct_answer_idx == i:\n",
    "                answers_repr += ')*)'\n",
    "            if i < len(self.answers) - 1:\n",
    "                answers_repr += ', '\n",
    "        return 'Q(%s), A[%s]' % (self.question[:15] + '..', answers_repr)"
   ]
  },
  {
   "cell_type": "code",
   "execution_count": 170,
   "metadata": {
    "scrolled": false
   },
   "outputs": [],
   "source": [
    "questions = []\n",
    "for f_name in files:\n",
    "    category = f_name.replace('.txt', '')\n",
    "    path = folder + f_name\n",
    "    c = []\n",
    "    with open(path) as f:\n",
    "        c = f.read().replace('\\r\\n\\r\\n', '\\n\\n').replace('\\r\\n', '\\n').split('\\n\\n')\n",
    "    question_raw = [q.split('\\n') for q in c]\n",
    "    for q in question_raw:\n",
    "        q = [l for l in q if l != '']\n",
    "        # TODO: Remove duplicate answers\n",
    "        if len(q) < 1:\n",
    "            # Print here to see what we dismissed\n",
    "            continue\n",
    "        question = Question()\n",
    "        question.set_question(q[0])\n",
    "        question.set_category(category)\n",
    "        for a in q[1:]:\n",
    "            is_correct, answer = a.split(' ', 1)\n",
    "            is_correct = (is_correct == '1')\n",
    "            question.add_answer(answer, is_correct)\n",
    "        questions.append(question)"
   ]
  },
  {
   "cell_type": "code",
   "execution_count": null,
   "metadata": {
    "collapsed": true
   },
   "outputs": [],
   "source": []
  }
 ],
 "metadata": {
  "kernelspec": {
   "display_name": "Python 2",
   "language": "python",
   "name": "python2"
  },
  "language_info": {
   "codemirror_mode": {
    "name": "ipython",
    "version": 2
   },
   "file_extension": ".py",
   "mimetype": "text/x-python",
   "name": "python",
   "nbconvert_exporter": "python",
   "pygments_lexer": "ipython2",
   "version": "2.7.6"
  }
 },
 "nbformat": 4,
 "nbformat_minor": 2
}
